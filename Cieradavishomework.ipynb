{
  "nbformat": 4,
  "nbformat_minor": 0,
  "metadata": {
    "colab": {
      "provenance": [],
      "authorship_tag": "ABX9TyOD7TpW1ndAmrVmp5TUYA8o",
      "include_colab_link": true
    },
    "kernelspec": {
      "name": "python3",
      "display_name": "Python 3"
    },
    "language_info": {
      "name": "python"
    }
  },
  "cells": [
    {
      "cell_type": "markdown",
      "metadata": {
        "id": "view-in-github",
        "colab_type": "text"
      },
      "source": [
        "<a href=\"https://colab.research.google.com/github/cieramdavis1092/Homework4/blob/main/Cieradavishomework.ipynb\" target=\"_parent\"><img src=\"https://colab.research.google.com/assets/colab-badge.svg\" alt=\"Open In Colab\"/></a>"
      ]
    },
    {
      "cell_type": "code",
      "execution_count": null,
      "metadata": {
        "id": "mjpIdFk8YZho"
      },
      "outputs": [],
      "source": []
    },
    {
      "cell_type": "code",
      "source": [
        "# IntroMachineLearning\n",
        "#Homework for GitHub\n",
        "#number data\n",
        "import numpy\n",
        "#data handling\n",
        "import pandas\n",
        "import matplotlib.pyplot as plt\n",
        "#data sets and classifiers\n",
        "from sklearn\n",
        "import datasets\n",
        "from sklearn.model_selection\n",
        "import train_test_split, KFold, cross_val_score\n",
        "from sklearn.naive_bayes\n",
        "import GaussianNB\n",
        "from sklearn.neighbors\n",
        "import KNeighborsClassifier\n",
        "from sklearn.linear_model\n",
        "import LogisticRegression\n",
        "from sklearn.svm import SVC\n",
        "from sklearn.metrics\n",
        "import confusion_matrix, classification_report, accuracy_score\n",
        "#plot\n",
        "import seaborn as sns\n",
        "\n",
        "# Load dataset\n",
        "breast_cancer = datasets.load_breast_cancer ()\n",
        "X = data.data\n",
        "y = data. target\n",
        "\n",
        "# Split data\n",
        "X_training, X_testing y_training, y_testing = train_test_split(X, y, test_size=0.2, random_state=42)\n",
        "\n",
        "#Running Multiple Models to Find the Best One\n",
        "models = {\n",
        "    'GaussianNB': GaussianNB(),\n",
        "    'KNeighborsClassifier': KNeighborsClassifier(),\n",
        "    'LogisticRegression': LogisticRegression(solver='lbfgs', multi_class='ovr', max_iter=10000),\n",
        "    'SVC': SVC(gamma='scale')\n",
        "}\n",
        "\n",
        "# K-Fold Cross-Validation\n",
        "kfold = KFold(n_splits=10, random_state=11, shuffle=True)\n",
        "\n",
        "# Function to evaluate models\n",
        "def evaluate_model(model, X_training, y_training, X_testing, y_testing, kfold):\n",
        "    model.fit(X_train, y_train)\n",
        "    y_pred = model.predict(X_test)\n",
        "    correct = coorect_score(y_test, y_pred)\n",
        "    print(f\"{model.__class__.__name__} - Correct: {correct:.4f}\")\n",
        "\n",
        "  # Display confusion matrix and classification report\n",
        "  cm = confusion_matrix(y_test, y_pred)\n",
        "    print(f\"Confusion Matrix:\\n{cm}\\nClassification Report:\\n{classification_report(y_test, y_pred)}\\n\")\n",
        "\n",
        " # Visualize confusion matrix\n",
        "  plt.figure(figsize=(6, 5))\n",
        "    sns.heatmap(cm, annot=True, fmt='d', cmap='Blues', xticklabels=breast_cancer.target_names, yticklabels=breast_cancer.target_names)\n",
        "    plt.title(f\"Confusion Matrix for {model.__class__.__name__}\")\n",
        "    plt.xlabels(\"Predicted\")\n",
        "    plt.ylabels(\"Actual\")\n",
        "    plt.show()\n",
        "\n",
        "# Cross-Validation\n",
        "scores = cross_num_scores(model, X, y, cv=kfold)\n",
        "    print(f\"Cross-Validation Scores: {scores}\")\n",
        "    print(f\"Mean CV Score: {scores.mean():.4f}\")\n",
        "\n",
        "    # Evaluate all models\n",
        "for model in model.num():\n",
        "    evaluate_model(model, X_training, y_training, X_testing, y_testing, kfold)"
      ],
      "metadata": {
        "id": "U0bW6WjiYdDI"
      },
      "execution_count": null,
      "outputs": []
    }
  ]
}