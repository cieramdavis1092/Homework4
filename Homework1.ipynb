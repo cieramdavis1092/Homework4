{
  "nbformat": 4,
  "nbformat_minor": 0,
  "metadata": {
    "colab": {
      "provenance": [],
      "mount_file_id": "1IUX81Td-B9bNmwYyvzJmCeJlYiewqyF0",
      "authorship_tag": "ABX9TyMtgKnDJOYgx0ojY4NJZjnp",
      "include_colab_link": true
    },
    "kernelspec": {
      "name": "python3",
      "display_name": "Python 3"
    },
    "language_info": {
      "name": "python"
    }
  },
  "cells": [
    {
      "cell_type": "markdown",
      "metadata": {
        "id": "view-in-github",
        "colab_type": "text"
      },
      "source": [
        "<a href=\"https://colab.research.google.com/github/cieramdavis1092/Homework4/blob/main/Homework1.ipynb\" target=\"_parent\"><img src=\"https://colab.research.google.com/assets/colab-badge.svg\" alt=\"Open In Colab\"/></a>"
      ]
    },
    {
      "cell_type": "code",
      "source": [
        "import pandas as pd\n",
        "\n",
        "# Load the CSV file into a pandas DataFrame\n",
        "df = pd.read_csv('diamonds.csv')  # Use the correct filename here\n",
        "print(df.head(7))  # Display the first 7 rows of the DataFrame\n",
        "\n"
      ],
      "metadata": {
        "colab": {
          "base_uri": "https://localhost:8080/"
        },
        "id": "ppcBTpJ00EuJ",
        "outputId": "8306d517-0be8-4d9d-9dde-c75474868ad3"
      },
      "execution_count": 13,
      "outputs": [
        {
          "output_type": "stream",
          "name": "stdout",
          "text": [
            "   Unnamed: 0  carat        cut color clarity  depth  table  price     x  \\\n",
            "0           1   0.23      Ideal     E     SI2   61.5   55.0    326  3.95   \n",
            "1           2   0.21    Premium     E     SI1   59.8   61.0    326  3.89   \n",
            "2           3   0.23       Good     E     VS1   56.9   65.0    327  4.05   \n",
            "3           4   0.29    Premium     I     VS2   62.4   58.0    334  4.20   \n",
            "4           5   0.31       Good     J     SI2   63.3   58.0    335  4.34   \n",
            "5           6   0.24  Very Good     J    VVS2   62.8   57.0    336  3.94   \n",
            "6           7   0.24  Very Good     I    VVS1   62.3   57.0    336  3.95   \n",
            "\n",
            "      y     z  \n",
            "0  3.98  2.43  \n",
            "1  3.84  2.31  \n",
            "2  4.07  2.31  \n",
            "3  4.23  2.63  \n",
            "4  4.35  2.75  \n",
            "5  3.96  2.48  \n",
            "6  3.98  2.47  \n"
          ]
        }
      ]
    },
    {
      "cell_type": "code",
      "source": [
        "import pandas as pd\n",
        "\n",
        "# Load the CSV file into a pandas DataFrame\n",
        "df = pd.read_csv('diamonds.csv')  # Use the correct filename here\n",
        "print(df.tail(7))  # Display the last 7 rows of the DataFrame\n"
      ],
      "metadata": {
        "colab": {
          "base_uri": "https://localhost:8080/"
        },
        "outputId": "990910b1-5af5-43d6-987e-bc2f00cd38e4",
        "id": "QQRGm36804-8"
      },
      "execution_count": 12,
      "outputs": [
        {
          "output_type": "stream",
          "name": "stdout",
          "text": [
            "       Unnamed: 0  carat        cut color clarity  depth  table  price     x  \\\n",
            "53933       53934   0.70  Very Good     E     VS2   61.2   59.0   2757  5.69   \n",
            "53934       53935   0.72    Premium     D     SI1   62.7   59.0   2757  5.69   \n",
            "53935       53936   0.72      Ideal     D     SI1   60.8   57.0   2757  5.75   \n",
            "53936       53937   0.72       Good     D     SI1   63.1   55.0   2757  5.69   \n",
            "53937       53938   0.70  Very Good     D     SI1   62.8   60.0   2757  5.66   \n",
            "53938       53939   0.86    Premium     H     SI2   61.0   58.0   2757  6.15   \n",
            "53939       53940   0.75      Ideal     D     SI2   62.2   55.0   2757  5.83   \n",
            "\n",
            "          y     z  \n",
            "53933  5.72  3.49  \n",
            "53934  5.73  3.58  \n",
            "53935  5.76  3.50  \n",
            "53936  5.75  3.61  \n",
            "53937  5.68  3.56  \n",
            "53938  6.12  3.74  \n",
            "53939  5.87  3.64  \n"
          ]
        }
      ]
    },
    {
      "cell_type": "markdown",
      "source": [],
      "metadata": {
        "id": "ibtcoboL0YTi"
      }
    },
    {
      "cell_type": "code",
      "source": [],
      "metadata": {
        "id": "tursglz70Yxv"
      },
      "execution_count": 13,
      "outputs": []
    },
    {
      "cell_type": "code",
      "source": [
        "import pandas as pd\n",
        "\n",
        "# Load the CSV file into a pandas DataFrame\n",
        "df = pd.read_csv('diamonds.csv')  # Use the correct filename here\n",
        "print(df.head(7))  # Display the first 7 rows of the DataFrame\n",
        "import pandas as pd\n",
        "\n",
        "import pandas as pd\n",
        "\n",
        "# Load the CSV file into a pandas DataFrame\n",
        "df = pd.read_csv('diamonds.csv')  # Use the correct filename here\n",
        "print(df.tail(7))  # Display the first 7 rows of the DataFrame\n",
        "\n",
        "# Load the CSV file into a pandas DataFrame\n",
        "df = pd.read_csv('diamonds.csv')  # Use the correct filename here\n",
        "\n",
        "# Descriptive statistics for numerical columns\n",
        "numerical_stats = df[['carat', 'depth', 'table', 'price', 'x', 'y', 'z']].describe()\n",
        "print(\"Descriptive statistics for numerical columns:\")\n",
        "print(numerical_stats)\n",
        "\n",
        "# Descriptive statistics for categorical columns\n",
        "categorical_stats = df[['cut', 'color', 'clarity']].describe()\n",
        "print(\"\\nDescriptive statistics for categorical columns:\")\n",
        "print(categorical_stats)\n",
        "\n",
        "# Unique values for each categorical column\n",
        "cut_unique = df['cut'].unique()\n",
        "color_unique = df['color'].unique()\n",
        "clarity_unique = df['clarity'].unique()\n",
        "\n",
        "print(\"\\nUnique cut values:\", cut_unique)\n",
        "print(\"Unique color values:\", color_unique)\n",
        "print(\"Unique clarity values:\", clarity_unique)\n"
      ],
      "metadata": {
        "colab": {
          "base_uri": "https://localhost:8080/"
        },
        "outputId": "9717b9af-8100-4c27-8172-bb369ebb7c4f",
        "id": "O-IIiZ9Z1v9E"
      },
      "execution_count": 18,
      "outputs": [
        {
          "output_type": "stream",
          "name": "stdout",
          "text": [
            "   Unnamed: 0  carat        cut color clarity  depth  table  price     x  \\\n",
            "0           1   0.23      Ideal     E     SI2   61.5   55.0    326  3.95   \n",
            "1           2   0.21    Premium     E     SI1   59.8   61.0    326  3.89   \n",
            "2           3   0.23       Good     E     VS1   56.9   65.0    327  4.05   \n",
            "3           4   0.29    Premium     I     VS2   62.4   58.0    334  4.20   \n",
            "4           5   0.31       Good     J     SI2   63.3   58.0    335  4.34   \n",
            "5           6   0.24  Very Good     J    VVS2   62.8   57.0    336  3.94   \n",
            "6           7   0.24  Very Good     I    VVS1   62.3   57.0    336  3.95   \n",
            "\n",
            "      y     z  \n",
            "0  3.98  2.43  \n",
            "1  3.84  2.31  \n",
            "2  4.07  2.31  \n",
            "3  4.23  2.63  \n",
            "4  4.35  2.75  \n",
            "5  3.96  2.48  \n",
            "6  3.98  2.47  \n",
            "       Unnamed: 0  carat        cut color clarity  depth  table  price     x  \\\n",
            "53933       53934   0.70  Very Good     E     VS2   61.2   59.0   2757  5.69   \n",
            "53934       53935   0.72    Premium     D     SI1   62.7   59.0   2757  5.69   \n",
            "53935       53936   0.72      Ideal     D     SI1   60.8   57.0   2757  5.75   \n",
            "53936       53937   0.72       Good     D     SI1   63.1   55.0   2757  5.69   \n",
            "53937       53938   0.70  Very Good     D     SI1   62.8   60.0   2757  5.66   \n",
            "53938       53939   0.86    Premium     H     SI2   61.0   58.0   2757  6.15   \n",
            "53939       53940   0.75      Ideal     D     SI2   62.2   55.0   2757  5.83   \n",
            "\n",
            "          y     z  \n",
            "53933  5.72  3.49  \n",
            "53934  5.73  3.58  \n",
            "53935  5.76  3.50  \n",
            "53936  5.75  3.61  \n",
            "53937  5.68  3.56  \n",
            "53938  6.12  3.74  \n",
            "53939  5.87  3.64  \n",
            "Descriptive statistics for numerical columns:\n",
            "              carat         depth         table         price             x  \\\n",
            "count  53940.000000  53940.000000  53940.000000  53940.000000  53940.000000   \n",
            "mean       0.797940     61.749405     57.457184   3932.799722      5.731157   \n",
            "std        0.474011      1.432621      2.234491   3989.439738      1.121761   \n",
            "min        0.200000     43.000000     43.000000    326.000000      0.000000   \n",
            "25%        0.400000     61.000000     56.000000    950.000000      4.710000   \n",
            "50%        0.700000     61.800000     57.000000   2401.000000      5.700000   \n",
            "75%        1.040000     62.500000     59.000000   5324.250000      6.540000   \n",
            "max        5.010000     79.000000     95.000000  18823.000000     10.740000   \n",
            "\n",
            "                  y             z  \n",
            "count  53940.000000  53940.000000  \n",
            "mean       5.734526      3.538734  \n",
            "std        1.142135      0.705699  \n",
            "min        0.000000      0.000000  \n",
            "25%        4.720000      2.910000  \n",
            "50%        5.710000      3.530000  \n",
            "75%        6.540000      4.040000  \n",
            "max       58.900000     31.800000  \n",
            "\n",
            "Descriptive statistics for categorical columns:\n",
            "          cut  color clarity\n",
            "count   53940  53940   53940\n",
            "unique      5      7       8\n",
            "top     Ideal      G     SI1\n",
            "freq    21551  11292   13065\n",
            "\n",
            "Unique cut values: ['Ideal' 'Premium' 'Good' 'Very Good' 'Fair']\n",
            "Unique color values: ['E' 'I' 'J' 'H' 'F' 'G' 'D']\n",
            "Unique clarity values: ['SI2' 'SI1' 'VS1' 'VS2' 'VVS2' 'VVS1' 'I1' 'IF']\n"
          ]
        }
      ]
    }
  ]
}