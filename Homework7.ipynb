{
  "nbformat": 4,
  "nbformat_minor": 0,
  "metadata": {
    "colab": {
      "provenance": [],
      "authorship_tag": "ABX9TyONc5yi6IuXLUR5Ujna4/RE",
      "include_colab_link": true
    },
    "kernelspec": {
      "name": "python3",
      "display_name": "Python 3"
    },
    "language_info": {
      "name": "python"
    }
  },
  "cells": [
    {
      "cell_type": "markdown",
      "metadata": {
        "id": "view-in-github",
        "colab_type": "text"
      },
      "source": [
        "<a href=\"https://colab.research.google.com/github/cieramdavis1092/Homework4/blob/main/Homework7.ipynb\" target=\"_parent\"><img src=\"https://colab.research.google.com/assets/colab-badge.svg\" alt=\"Open In Colab\"/></a>"
      ]
    },
    {
      "cell_type": "code",
      "execution_count": null,
      "metadata": {
        "id": "D2yCpn-jcHYm"
      },
      "outputs": [],
      "source": []
    },
    {
      "cell_type": "markdown",
      "source": [
        "1.) Fashion-MNIST is diffucult for models to perform well on compared to MNIST, with models showing a lower accuracy.\n",
        "\n",
        "Training timecan be higher for Fashion-MNIST when its more complex image content. However, the difference is small if you are using similar models for both datasets.\n",
        "\n",
        "\n",
        "\n",
        "\n",
        "\n",
        "\n",
        "\n",
        "\n",
        "\n",
        "\n",
        "2.)Predicting accuracy: can add a Dense layer with 4096 neurons can improve accuracy, if the data is complex and the model was previously underfitting Overfitting can become risky if it is not managed carefully.\n",
        "\n",
        "Training Speed: The model will likely take longer to train due to the increased number of parameters, requiring more computation per training step.\n",
        "\n",
        "Inference Speed: The model will take longer to make predictions when the increased model size, that involves more parameters to process during inference.\n"
      ],
      "metadata": {
        "id": "Ia2Wiw40cM3E"
      }
    }
  ]
}